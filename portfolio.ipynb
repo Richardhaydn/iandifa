{
 "cells": [
  {
   "cell_type": "markdown",
   "metadata": {},
   "source": [
    "# Read in fund performance spreadsheet from web, extract top 5 funds in each category & export to excel, extract protfolio fund prices, calculate  balance and append row to IBM Db2 database on a daily basis"
   ]
  },
  {
   "cell_type": "code",
   "execution_count": 1,
   "metadata": {},
   "outputs": [],
   "source": [
    "import pandas as pd\n",
    "import os\n",
    "import ibm_db\n",
    "from datetime import datetime as dt"
   ]
  },
  {
   "cell_type": "code",
   "execution_count": 2,
   "metadata": {},
   "outputs": [],
   "source": [
    "# Set today's date\n",
    "datenow = int(dt.today().strftime('%Y%m%d'))"
   ]
  },
  {
   "cell_type": "code",
   "execution_count": 3,
   "metadata": {},
   "outputs": [],
   "source": [
    "# Configure DSN String for DataBase Connection\n",
    "\n",
    "dsn_hostname = \"dashdb-txn-sbox-yp-lon02-04.services.eu-gb.bluemix.net\"\n",
    "dsn_uid = \"\"\n",
    "dsn_pwd = \"\"\n",
    "dsn_driver = \"{IBM DB2 ODBC DRIVER}\"\n",
    "dsn_database = \"BLUDB\"\n",
    "dsn_port = \"50000\"\n",
    "dsn_protocol = \"TCPIP\"\n",
    "\n",
    "dsn = (\n",
    "\"DRIVER={0};\"\n",
    "\"DATABASE={1};\"\n",
    "\"HOSTNAME={2};\"\n",
    "\"PORT={3};\"\n",
    "\"PROTOCOL={4};\"\n",
    "\"UID={5};\"\n",
    "\"PWD={6};\").format(dsn_driver, dsn_database, dsn_hostname, dsn_port, dsn_protocol, dsn_uid, dsn_pwd)"
   ]
  },
  {
   "cell_type": "code",
   "execution_count": 4,
   "metadata": {},
   "outputs": [],
   "source": [
    "# Define dictionary of funds and amount of holdings\n",
    "assets = {85112:1, 96706:1, 97360:1, 97685:1, 98034:1, 98172:1, 98637:1}"
   ]
  },
  {
   "cell_type": "markdown",
   "metadata": {},
   "source": [
    "## Define source of excel & read table into pandas dataframe"
   ]
  },
  {
   "cell_type": "code",
   "execution_count": 5,
   "metadata": {},
   "outputs": [],
   "source": [
    "url='http://lt.morningstar.com/api/rest.svc/security_list/n85rs8kzci/FOALL$$ALL_1509?pageSize=5000&outputType=xlsx&languageId=en-GB&columnList=SecId,ISIN,CustomInstitutionSecurityId,Name,CustomCategoryName,ClosePrice,Offer,_CurrencyId,ReturnD1,ReturnW1,ReturnM1,ReturnM3,ReturnM6,ReturnM12,ReturnM36UA,ReturnM60UA,ActualManagementFee,ExpenseRatio&cacheBuster=4357814118873875000'"
   ]
  },
  {
   "cell_type": "code",
   "execution_count": 6,
   "metadata": {},
   "outputs": [],
   "source": [
    "# Read date into dataframe, drop unwanted column, set index & sort by new index\n",
    "table = pd.read_excel(url, index_col='Custom Institution Security Id')\n",
    "table.drop('Total', axis=1, inplace=True)\n",
    "table.sort_index(inplace=True)"
   ]
  },
  {
   "cell_type": "markdown",
   "metadata": {},
   "source": [
    "## Explore Table Information"
   ]
  },
  {
   "cell_type": "code",
   "execution_count": null,
   "metadata": {},
   "outputs": [],
   "source": [
    "table.shape"
   ]
  },
  {
   "cell_type": "code",
   "execution_count": null,
   "metadata": {},
   "outputs": [],
   "source": [
    "table.info()"
   ]
  },
  {
   "cell_type": "code",
   "execution_count": null,
   "metadata": {},
   "outputs": [],
   "source": [
    "table.describe()"
   ]
  },
  {
   "cell_type": "code",
   "execution_count": null,
   "metadata": {
    "scrolled": true
   },
   "outputs": [],
   "source": [
    "table.head()"
   ]
  },
  {
   "cell_type": "markdown",
   "metadata": {},
   "source": [
    "It is clear from the breakdown below that there are only  7 main categories of funds: \n",
    "Equities, Fixed Income, Commodities, Multi-Asset,  Cash, Alternatives & Property"
   ]
  },
  {
   "cell_type": "code",
   "execution_count": null,
   "metadata": {
    "scrolled": true
   },
   "outputs": [],
   "source": [
    "table['Custom Category Name'].value_counts()\n",
    "#table['Custom Category Name'].unique()"
   ]
  },
  {
   "cell_type": "markdown",
   "metadata": {},
   "source": [
    "## Report the top 5 funds in each category sorted by 6 Month Return\n"
   ]
  },
  {
   "cell_type": "code",
   "execution_count": 7,
   "metadata": {},
   "outputs": [],
   "source": [
    "# EQUITIES\n",
    "equities = table[(table['Custom Category Name'].str.startswith(\"Equities\")) & (table.Currency==\"CU$$$$$USD\")]\n",
    "equities = equities.sort_values(by='6 Month Return', ascending=False).head()\n",
    "#equities"
   ]
  },
  {
   "cell_type": "code",
   "execution_count": 8,
   "metadata": {},
   "outputs": [],
   "source": [
    "# FIXED INCOME\n",
    "fixed_income = table[(table['Custom Category Name'].str.startswith(\"Fixed Income\")) & (table.Currency==\"CU$$$$$USD\")]\n",
    "fixed_income = fixed_income.sort_values(by='6 Month Return', ascending=False).head()\n",
    "#fixed_income"
   ]
  },
  {
   "cell_type": "code",
   "execution_count": 9,
   "metadata": {},
   "outputs": [],
   "source": [
    "# COMMODITIES\n",
    "commodities = table[(table['Custom Category Name'].str.startswith(\"Commodities\")) & (table.Currency==\"CU$$$$$USD\")]\n",
    "commodities = commodities.sort_values(by='6 Month Return', ascending=False).head()\n",
    "#commodities"
   ]
  },
  {
   "cell_type": "code",
   "execution_count": 10,
   "metadata": {},
   "outputs": [],
   "source": [
    "# MULTI-ASSET\n",
    "multi_asset = table[(table['Custom Category Name'].str.startswith(\"Multi-Asset\")) & (table.Currency==\"CU$$$$$USD\")]\n",
    "multi_asset = multi_asset.sort_values(by='6 Month Return', ascending=False).head()\n",
    "#multi_asset"
   ]
  },
  {
   "cell_type": "code",
   "execution_count": 11,
   "metadata": {},
   "outputs": [],
   "source": [
    "# CASH FUNDS\n",
    "cash_funds = table[(table['Custom Category Name'].str.startswith(\"Cash Funds\")) & (table.Currency==\"CU$$$$$USD\")]\n",
    "cash_funds = cash_funds.sort_values(by='6 Month Return', ascending=False).head()\n",
    "#cash_funds"
   ]
  },
  {
   "cell_type": "code",
   "execution_count": 12,
   "metadata": {},
   "outputs": [],
   "source": [
    "# ALTERNATIVES\n",
    "alternatives = table[(table['Custom Category Name'].str.startswith(\"Alternatives\")) & (table.Currency==\"CU$$$$$USD\")]\n",
    "alternatives = alternatives.sort_values(by='6 Month Return', ascending=False).head()\n",
    "#alternatives"
   ]
  },
  {
   "cell_type": "code",
   "execution_count": 13,
   "metadata": {},
   "outputs": [],
   "source": [
    "# PROPERTY\n",
    "realestate = table[(table['Custom Category Name'].str.startswith(\"Property\")) & (table.Currency==\"CU$$$$$USD\")]\n",
    "realestate = realestate.sort_values(by='6 Month Return', ascending=False).head()\n",
    "#realestate"
   ]
  },
  {
   "cell_type": "markdown",
   "metadata": {},
   "source": [
    "## Show Funds with Maximum Returns over 6 reporting periods: 1M, 3M, 6M, 1Y, 3Y, 5Y"
   ]
  },
  {
   "cell_type": "code",
   "execution_count": 14,
   "metadata": {},
   "outputs": [],
   "source": [
    "# Define variables to locate rows with maximum returns\n",
    "ID1M, ID3M, ID6M, ID12M, ID3Y, ID5Y = table['Return 1M'].idxmax(), table['Return 3M'].idxmax(), table['6 Month Return'].idxmax(), table['Return 12M'].idxmax(), table['Return 36M UA'].idxmax(), table['5 Year Return (unannualised)'].idxmax()"
   ]
  },
  {
   "cell_type": "code",
   "execution_count": 15,
   "metadata": {
    "scrolled": true
   },
   "outputs": [
    {
     "name": "stdout",
     "output_type": "stream",
     "text": [
      "Max 1M Return: 98582 - QIN IM USD Merian Gold & Silver, with a value of %24.92308\n",
      "Max 3M Return: 97285 - QIN IM EUR BNP Paribas Energy Transition USD, with a value of %82.51534\n",
      "Max 6M Return: 97464 - QIN IM USD Investec GSF Global Gold, with a value of %55.46995\n",
      "Max 1Y Return: 97285 - QIN IM EUR BNP Paribas Energy Transition USD, with a value of %72.96512\n",
      "Max 3Y Return: 97464 - QIN IM USD Investec GSF Global Gold, with a value of %103.018125\n",
      "Max 5Y Return: 97465 - QIN IM USD Investec GSF Global Gold GBP, with a value of %279.024374\n"
     ]
    }
   ],
   "source": [
    "# Optional Visual Check of Funds with Maximum Performance\n",
    "print('Max 1M Return: {} - {}, with a value of %{}'.format(ID1M, table.loc[ID1M,'Name'], table.loc[ID1M,'Return 1M']))\n",
    "print('Max 3M Return: {} - {}, with a value of %{}'.format(ID3M, table.loc[ID3M,'Name'], table.loc[ID3M,'Return 3M']))\n",
    "print('Max 6M Return: {} - {}, with a value of %{}'.format(ID6M, table.loc[ID6M,'Name'], table.loc[ID6M,'6 Month Return']))\n",
    "print('Max 1Y Return: {} - {}, with a value of %{}'.format(ID12M, table.loc[ID12M,'Name'], table.loc[ID12M,'Return 12M']))\n",
    "print('Max 3Y Return: {} - {}, with a value of %{}'.format(ID3Y, table.loc[ID3Y,'Name'], table.loc[ID3Y,'Return 36M UA']))\n",
    "print('Max 5Y Return: {} - {}, with a value of %{}'.format(ID5Y, table.loc[ID5Y,'Name'], table.loc[ID5Y,'5 Year Return (unannualised)']))"
   ]
  },
  {
   "cell_type": "code",
   "execution_count": 16,
   "metadata": {
    "scrolled": true
   },
   "outputs": [],
   "source": [
    "top6indexlist=[ID1M, ID3M, ID6M, ID12M, ID3Y, ID5Y]\n",
    "top_performers = table[table.index.isin(top6indexlist)]\n",
    "top_performers = top_performers.drop(['Return 1D', 'Return 1W'], axis=1)\n",
    "#top_performers"
   ]
  },
  {
   "cell_type": "markdown",
   "metadata": {},
   "source": [
    "## Export Top Performing Funds to multi-sheet excel workbook"
   ]
  },
  {
   "cell_type": "code",
   "execution_count": 17,
   "metadata": {},
   "outputs": [],
   "source": [
    "filename = str(datenow)+'_Top Funds.xlsx'\n",
    "full_filename = os.path.join('/Users/Richard/Dropbox/RSK/', filename)\n",
    "\n",
    "with pd.ExcelWriter(full_filename) as writer:\n",
    "    top_performers.to_excel(writer, sheet_name=\"Top Funds\")\n",
    "    cash_funds.to_excel(writer, sheet_name=\"Cash\")\n",
    "    commodities.to_excel(writer, sheet_name=\"Commodities\")\n",
    "    equities.to_excel(writer, sheet_name=\"Equities\")\n",
    "    fixed_income.to_excel(writer, sheet_name=\"Fixed Income\")\n",
    "    multi_asset.to_excel(writer, sheet_name=\"MultiAsset\")\n",
    "    alternatives.to_excel(writer, sheet_name=\"Alternatives\")\n",
    "    realestate.to_excel(writer, sheet_name=\"Property\")  "
   ]
  },
  {
   "cell_type": "markdown",
   "metadata": {},
   "source": [
    "## Generate new DataFrame for funds in portfolio ONLY"
   ]
  },
  {
   "cell_type": "code",
   "execution_count": 18,
   "metadata": {},
   "outputs": [],
   "source": [
    "portfolio = table[table.index.isin(assets.keys())]"
   ]
  },
  {
   "cell_type": "code",
   "execution_count": null,
   "metadata": {
    "scrolled": true
   },
   "outputs": [],
   "source": [
    "# Optional Visual check of Portfolio DataFrame\n",
    "#portfolio"
   ]
  },
  {
   "cell_type": "markdown",
   "metadata": {},
   "source": [
    "## Add total value for each Fund Row"
   ]
  },
  {
   "cell_type": "code",
   "execution_count": 19,
   "metadata": {},
   "outputs": [],
   "source": [
    "# Create empty list, loop through calculation, append values to DataFrame\n",
    "value_list=[]\n",
    "for index in portfolio.index:\n",
    "    value_list.append(round(portfolio.loc[index,'Close Price'] * assets[index],2))\n",
    "portfolio.insert(17, 'Value', value_list)"
   ]
  },
  {
   "cell_type": "markdown",
   "metadata": {},
   "source": [
    "## Compare max date from Database to today's date and delete row if data already exists"
   ]
  },
  {
   "cell_type": "code",
   "execution_count": 34,
   "metadata": {},
   "outputs": [],
   "source": [
    "conn = ibm_db.connect(dsn, \"\", '')\n",
    "readQuery = \"select max(DATE) from qin_portfolio\"\n",
    "readStmt = ibm_db.exec_immediate(conn, readQuery)\n",
    "last_db_date = ibm_db.fetch_both(readStmt)[0]\n",
    "\n",
    "if datenow == last_db_date:\n",
    "    delQuery = \"delete from qin_portfolio where DATE = \"+str(datenow)\n",
    "    delStmt = ibm_db.exec_immediate(conn, delQuery)"
   ]
  },
  {
   "cell_type": "markdown",
   "metadata": {},
   "source": [
    "## Update Database with daily closing prices and total portfolio value"
   ]
  },
  {
   "cell_type": "code",
   "execution_count": 31,
   "metadata": {},
   "outputs": [],
   "source": [
    "# Define variables for SQL Update Statement\n",
    "#\n",
    "QIN_85112 = portfolio.loc[85112, 'Close Price']\n",
    "QIN_96706 = portfolio.loc[96706, 'Close Price']\n",
    "QIN_97360 = portfolio.loc[97360, 'Close Price']\n",
    "QIN_97685 = portfolio.loc[97685, 'Close Price']\n",
    "QIN_98034 = portfolio.loc[98034, 'Close Price']\n",
    "QIN_98172 = portfolio.loc[98172, 'Close Price']\n",
    "QIN_98637 = portfolio.loc[98637, 'Close Price']\n",
    "dailysum = round(sum(portfolio.Value),2)"
   ]
  },
  {
   "cell_type": "markdown",
   "metadata": {},
   "source": [
    "## Connecting to IBM Db2 Database via IBM_DB API in Python - OPTION 1"
   ]
  },
  {
   "cell_type": "code",
   "execution_count": 35,
   "metadata": {},
   "outputs": [],
   "source": [
    "insertQuery ='''\n",
    "insert into qin_portfolio\n",
    "(date, \"85112\", \"96706\", \"97360\", \"97685\", \"98034\", \"98172\", \"98637\", daysum)\n",
    "VALUES\n",
    "('''+str(datenow)+\",\"+str(QIN_85112)+\",\"+str(QIN_96706)+\",\"+str(QIN_97360)+\",\"+str(QIN_97685)+\",\"+str(QIN_98034)+\",\"+str(QIN_98172)+\",\"+str(QIN_98637)+\",\"+str(dailysum)+\")\"\n",
    "\n",
    "insertStmt = ibm_db.exec_immediate(conn, insertQuery)\n",
    "ibm_db.close(conn)"
   ]
  },
  {
   "cell_type": "code",
   "execution_count": null,
   "metadata": {},
   "outputs": [],
   "source": [
    "# Optional: Check rows in Online DB\n",
    "conn = ibm_db.connect(dsn, \"\", '')\n",
    "selectQuery = \"select * from qin_portfolio\"\n",
    "selectStmt = ibm_db.exec_immediate(conn, selectQuery)"
   ]
  },
  {
   "cell_type": "code",
   "execution_count": null,
   "metadata": {},
   "outputs": [],
   "source": [
    "# Optional: Print summary of database\n",
    "while ibm_db.fetch_row(selectStmt) != False:\n",
    "    print('Date: ', ibm_db.result(selectStmt, 'DATE'), 'Value: ', ibm_db.result(selectStmt, 'DAYSUM'))\n",
    "ibm_db.close(conn)"
   ]
  },
  {
   "cell_type": "markdown",
   "metadata": {},
   "source": [
    "## Connecting to IBM Db2 Database via SQL Magic - OPTION 2"
   ]
  },
  {
   "cell_type": "code",
   "execution_count": null,
   "metadata": {},
   "outputs": [],
   "source": [
    "%load_ext sql"
   ]
  },
  {
   "cell_type": "code",
   "execution_count": null,
   "metadata": {},
   "outputs": [],
   "source": [
    "%sql ibm_db_sa://USR:PSWD@dashdb-txn-sbox-yp-lon02-04.services.eu-gb.bluemix.net:50000/BLUDB"
   ]
  },
  {
   "cell_type": "code",
   "execution_count": null,
   "metadata": {},
   "outputs": [],
   "source": [
    "# CODE TO CREATE TABLE IN SQL\n",
    "# ONLY RUN ONCE\n",
    "#%%sql\n",
    "#create table QIN_PORTFOLIO\n",
    "#(date INTEGER PRIMARY KEY NOT NULL,\n",
    "# \"85112\" DECIMAL (10,2),\n",
    "# \"96706\" DECIMAL (10,2),\n",
    "# \"97360\" DECIMAL (10,2),\n",
    "# \"97685\" DECIMAL (10,2),\n",
    "# \"98034\" DECIMAL (10,2),\n",
    "# \"98172\" DECIMAL (10,2),\n",
    "# \"98637\" DECIMAL (10,2),\n",
    "# daysum DECIMAL (10,2)\n",
    "#)"
   ]
  },
  {
   "cell_type": "code",
   "execution_count": null,
   "metadata": {},
   "outputs": [],
   "source": [
    "%%sql\n",
    "insert into qin_portfolio\n",
    "(date, \"85112\", \"96706\", \"97360\", \"97685\", \"98034\", \"98172\", \"98637\", daysum) \n",
    "VALUES\n",
    "(:datenow, :QIN_85112, :QIN_96706, :QIN_97360, :QIN_97685, :QIN_98034, :QIN_98172, :QIN_98637, :dailysum)\n"
   ]
  },
  {
   "cell_type": "markdown",
   "metadata": {},
   "source": [
    "## Optional : Verification of Addition to Database"
   ]
  },
  {
   "cell_type": "code",
   "execution_count": 26,
   "metadata": {},
   "outputs": [],
   "source": [
    "#%load_ext sql"
   ]
  },
  {
   "cell_type": "code",
   "execution_count": 27,
   "metadata": {},
   "outputs": [],
   "source": [
    "#%sql ibm_db_sa://USR:PSWD@dashdb-txn-sbox-yp-lon02-04.services.eu-gb.bluemix.net:50000/BLUDB"
   ]
  },
  {
   "cell_type": "code",
   "execution_count": 38,
   "metadata": {},
   "outputs": [],
   "source": [
    "#%sql select * from qin_portfolio"
   ]
  },
  {
   "cell_type": "code",
   "execution_count": 39,
   "metadata": {},
   "outputs": [],
   "source": [
    "#%sql select tabname, tabschema, create_time from syscat.tables where tabschema='RRB73189'"
   ]
  },
  {
   "cell_type": "code",
   "execution_count": 40,
   "metadata": {},
   "outputs": [],
   "source": [
    "#%sql select * from syscat.columns where tabname='QIN_PORTFOLIO'"
   ]
  },
  {
   "cell_type": "code",
   "execution_count": 41,
   "metadata": {},
   "outputs": [],
   "source": [
    "#%sql delete from qin_portfolio where date=20200810"
   ]
  }
 ],
 "metadata": {
  "kernelspec": {
   "display_name": "Python 3.8.2 64-bit",
   "language": "python",
   "name": "python38264bitb3a03a554cbc4b329ec01d0d50a301e6"
  },
  "language_info": {
   "codemirror_mode": {
    "name": "ipython",
    "version": 3
   },
   "file_extension": ".py",
   "mimetype": "text/x-python",
   "name": "python",
   "nbconvert_exporter": "python",
   "pygments_lexer": "ipython3",
   "version": "3.8.3"
  }
 },
 "nbformat": 4,
 "nbformat_minor": 4
}
